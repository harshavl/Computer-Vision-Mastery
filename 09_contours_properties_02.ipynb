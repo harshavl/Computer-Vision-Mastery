{
 "cells": [
  {
   "cell_type": "markdown",
   "metadata": {},
   "source": [
    "## Advance Properties <br>\n",
    "1. Aspect Ratio <br>\n",
    "2. Extent <br>\n",
    "3. Convex hull <br>\n",
    "4. Solidity <br>"
   ]
  },
  {
   "cell_type": "markdown",
   "metadata": {},
   "source": [
    "**Aspect Ratio**: ratio of image width / image height <br>\n",
    "Usage: distinguish between squares and rectangles, detect handwritten digits in images; <br>\n",
    "\n",
    "aspect ratio < 1 : height > width; image appear to more tall. <br>\n",
    "aspect ration > 1: width > height; for example, license plate <br>\n",
    "aspect ration = 1; same in height and width;  for examples, squares and circles. <br>"
   ]
  },
  {
   "cell_type": "markdown",
   "metadata": {},
   "source": [
    "**Extent** of a shape or contour is the ratio of the contour area to the bounding area; <br>\n",
    "extent = shape area / bounding area <br>\n",
    "\n",
    " "
   ]
  },
  {
   "cell_type": "markdown",
   "metadata": {},
   "source": [
    "**A Convex hull** is alomost like a mathematical rubber band."
   ]
  },
  {
   "cell_type": "markdown",
   "metadata": {},
   "source": [
    "**Solidity** of a shape is the area of the contour area divided by the area of the conver hull. <br>\n",
    "solidity = contour area / convex hull area <br>\n",
    "\n"
   ]
  },
  {
   "cell_type": "code",
   "execution_count": 23,
   "metadata": {
    "collapsed": true
   },
   "outputs": [],
   "source": [
    "import numpy as np\n",
    "import imutils\n",
    "import cv2\n",
    "\n",
    "import matplotlib.pyplot as plt\n",
    "%matplotlib inline"
   ]
  },
  {
   "cell_type": "code",
   "execution_count": 24,
   "metadata": {},
   "outputs": [
    {
     "name": "stdout",
     "output_type": "stream",
     "text": [
      "O (Contour #1) -- solidity=0.98\n",
      "X (Contour #2) -- solidity=0.60\n",
      "O (Contour #3) -- solidity=0.98\n",
      "X (Contour #4) -- solidity=0.60\n",
      "X (Contour #5) -- solidity=0.60\n",
      "O (Contour #6) -- solidity=0.98\n",
      "? (Contour #7) -- solidity=0.28\n"
     ]
    },
    {
     "data": {
      "text/plain": [
       "<matplotlib.image.AxesImage at 0x7f14b3fcf940>"
      ]
     },
     "execution_count": 24,
     "metadata": {},
     "output_type": "execute_result"
    },
    {
     "data": {
      "image/png": "[encoded data removed]",
      "text/plain": [
       "<matplotlib.figure.Figure at 0x7f14b3d8ea20>"
      ]
     },
     "metadata": {},
     "output_type": "display_data"
    }
   ],
   "source": [
    "# tic-tac-toe\n",
    "\n",
    "# load the tic-tac-toe image and convert it to grayscale\n",
    "image = cv2.imread(\"./data/tictactoe.png\")\n",
    "gray = cv2.cvtColor(image, cv2.COLOR_BGR2GRAY)\n",
    "\n",
    "# find all contours on the tic-tac-toe board\n",
    "cnts = cv2.findContours(gray.copy(), cv2.RETR_EXTERNAL, cv2.CHAIN_APPROX_SIMPLE)\n",
    "cnts = imutils.grab_contours(cnts)\n",
    "\n",
    "# loop over the contours\n",
    "for (i, c) in enumerate(cnts):\n",
    "    # compute the area of the contour along with the bounding box\n",
    "    # to compute the aspect ratio\n",
    "    area = cv2.contourArea(c)\n",
    "    (x, y, w, h) = cv2.boundingRect(c)\n",
    "    \n",
    "\n",
    "    # compute the convex hull of the contour, then use the area of the\n",
    "    # original contour and the area of the convex hull to compute the\n",
    "    # solidity\n",
    "    hull = cv2.convexHull(c)\n",
    "    hullArea = cv2.contourArea(hull)\n",
    "    solidity = area / float(hullArea)\n",
    "    \n",
    "    #intialize the character text\n",
    "    char ='?'\n",
    "    \n",
    "    #if the solidity is high, then we are examining 'O'\n",
    "    if solidity > 0.9:\n",
    "        char = 'O'\n",
    "    #else examining 'X\n",
    "    elif solidity > 0.5:\n",
    "        char = 'X'\n",
    "    #if the character is not known, draw it;\n",
    "    if char != '?':\n",
    "        cv2.drawContours( image, [c], -1, (0,255,0), 3 )\n",
    "        cv2.putText( image, char, (x,y - 10), cv2.FONT_HERSHEY_SIMPLEX, 1.25, (0,255,0), 4 )\n",
    "        \n",
    "    print(\"{} (Contour #{}) -- solidity={:.2f}\".format(char, i + 1, solidity))\n",
    "\n",
    "plt.imshow(image)"
   ]
  },
  {
   "cell_type": "code",
   "execution_count": null,
   "metadata": {},
   "outputs": [],
   "source": [
    "\n"
   ]
  },
  {
   "cell_type": "code",
   "execution_count": null,
   "metadata": {},
   "outputs": [],
   "source": []
  }
 ],
 "metadata": {
  "kernelspec": {
   "display_name": "Python 3",
   "language": "python",
   "name": "python3"
  },
  "language_info": {
   "codemirror_mode": {
    "name": "ipython",
    "version": 3
   },
   "file_extension": ".py",
   "mimetype": "text/x-python",
   "name": "python",
   "nbconvert_exporter": "python",
   "pygments_lexer": "ipython3",
   "version": "3.6.3"
  }
 },
 "nbformat": 4,
 "nbformat_minor": 2
}
